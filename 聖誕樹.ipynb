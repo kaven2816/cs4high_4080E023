{
  "nbformat": 4,
  "nbformat_minor": 0,
  "metadata": {
    "colab": {
      "name": "HELLO.ipynb",
      "version": "0.3.2",
      "provenance": [],
      "collapsed_sections": [],
      "include_colab_link": true
    },
    "kernelspec": {
      "name": "python3",
      "display_name": "Python 3"
    }
  },
  "cells": [
    {
      "cell_type": "markdown",
      "metadata": {
        "id": "view-in-github",
        "colab_type": "text"
      },
      "source": [
        "<a href=\"https://colab.research.google.com/github/kaven2816/cs4high_4080E023/blob/master/%E8%81%96%E8%AA%95%E6%A8%B9.ipynb\" target=\"_parent\"><img src=\"https://colab.research.google.com/assets/colab-badge.svg\" alt=\"Open In Colab\"/></a>"
      ]
    },
    {
      "cell_type": "code",
      "metadata": {
        "id": "HWElS4bHXfPS",
        "colab_type": "code",
        "outputId": "0c89b8ac-4c47-4d7d-ea32-6c0fbfce65e0",
        "colab": {
          "base_uri": "https://localhost:8080/",
          "height": 969
        }
      },
      "source": [
        "print(\"Hello, Mydeargreatteacher!\")\n",
        "\n",
        "print(\"                                      x                                                      \")\n",
        "print(\"                                     xxx                                                     \")\n",
        "print(\"                                    xxxxx                                                    \")\n",
        "print(\"                                   xxxxxxx                                                   \")\n",
        "print(\"                                  xxxxxxxxx                                                  \")\n",
        "print(\"                           xxxxxxxxxxxxxxxxxxxxxxx                                           \")\n",
        "print(\"                              xxxxxxxxxxxxxxxxx                                              \")\n",
        "print(\"                                xxxxxxxxxxxxx                                                \")\n",
        "print(\"                                 xxxxxxxxxxx                                                 \")\n",
        "print(\"                                xxxxxxxxxxxxx                                                \")\n",
        "print(\"                               xxxxx  *  xxxxx                                               \")\n",
        "print(\"                              xxxx   ***   xxxx                                              \")\n",
        "print(\"                             xx     *****     xx                                             \")\n",
        "print(\"                            x      *******      x                                            \")\n",
        "print(\"                                  *********                                                  \")\n",
        "print(\"                                 ***********                                                 \")\n",
        "print(\"                                *************                                                \")\n",
        "print(\"                               ***************                                               \")\n",
        "print(\"                              *****************                                              \")\n",
        "print(\"                             *******************                                             \")  \n",
        "print(\"                                  *********                                                  \")\n",
        "print(\"                                 ***********                                                 \")  \n",
        "print(\"                                *************                                                \")\n",
        "print(\"                               ***************                                               \")\n",
        "print(\"                              *****************                                              \")\n",
        "print(\"                             *******************                                             \")\n",
        "print(\"                            *********************                                            \")\n",
        "print(\"                           ***********************                                           \")\n",
        "print(\"                          *************************                                          \")\n",
        "print(\"                         ***************************                                         \")\n",
        "print(\"                             ******************                                              \")\n",
        "print(\"                            ********************                                             \")\n",
        "print(\"                           **********************                                            \")\n",
        "print(\"                          ************************                                           \")\n",
        "print(\"                         **************************                                          \")\n",
        "print(\"                        ****************************                                         \")\n",
        "print(\"                       ******************************                                        \")\n",
        "print(\"                      ********************************                                       \")\n",
        "print(\"                     **********************************                                      \")\n",
        "print(\"                    ************************************                                     \")\n",
        "print(\"                   **************************************                                    \")\n",
        "print(\"                  ****************************************                                   \")\n",
        "print(\"                 ******************************************                                  \")\n",
        "print(\"                    |   |      | **********   |     |   |                                    \")\n",
        "print(\"                    |   |      O **********   O     |   O                                    \")\n",
        "print(\"                    |   O        **********         |                                        \")\n",
        "print(\"                    O            **********         O                                        \")\n",
        "print(\"                                 **********                                                  \")\n",
        "print(\"                                 **********                                                  \")\n",
        "print(\"                                 **********                                                  \")"
      ],
      "execution_count": 4,
      "outputs": [
        {
          "output_type": "stream",
          "text": [
            "Hello, Mydeargreatteacher!\n",
            "                                      x                                                      \n",
            "                                     xxx                                                     \n",
            "                                    xxxxx                                                    \n",
            "                                   xxxxxxx                                                   \n",
            "                                  xxxxxxxxx                                                  \n",
            "                           xxxxxxxxxxxxxxxxxxxxxxx                                           \n",
            "                              xxxxxxxxxxxxxxxxx                                              \n",
            "                                xxxxxxxxxxxxx                                                \n",
            "                                 xxxxxxxxxxx                                                 \n",
            "                                xxxxxxxxxxxxx                                                \n",
            "                               xxxxx  *  xxxxx                                               \n",
            "                              xxxx   ***   xxxx                                              \n",
            "                             xx     *****     xx                                             \n",
            "                            x      *******      x                                            \n",
            "                                  *********                                                  \n",
            "                                 ***********                                                 \n",
            "                                *************                                                \n",
            "                               ***************                                               \n",
            "                              *****************                                              \n",
            "                             *******************                                             \n",
            "                                  *********                                                  \n",
            "                                 ***********                                                 \n",
            "                                *************                                                \n",
            "                               ***************                                               \n",
            "                              *****************                                              \n",
            "                             *******************                                             \n",
            "                            *********************                                            \n",
            "                           ***********************                                           \n",
            "                          *************************                                          \n",
            "                         ***************************                                         \n",
            "                             ******************                                              \n",
            "                            ********************                                             \n",
            "                           **********************                                            \n",
            "                          ************************                                           \n",
            "                         **************************                                          \n",
            "                        ****************************                                         \n",
            "                       ******************************                                        \n",
            "                      ********************************                                       \n",
            "                     **********************************                                      \n",
            "                    ************************************                                     \n",
            "                   **************************************                                    \n",
            "                  ****************************************                                   \n",
            "                 ******************************************                                  \n",
            "                    |   |      | **********   |     |   |                                    \n",
            "                    |   |      O **********   O     |   O                                    \n",
            "                    |   O        **********         |                                        \n",
            "                    O            **********         O                                        \n",
            "                                 **********                                                  \n",
            "                                 **********                                                  \n",
            "                                 **********                                                  \n"
          ],
          "name": "stdout"
        }
      ]
    }
  ]
}